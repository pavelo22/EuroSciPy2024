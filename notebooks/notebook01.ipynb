{
 "cells": [
  {
   "metadata": {},
   "cell_type": "markdown",
   "source": "# Introduction to magic methods by actual use case",
   "id": "6172b0b1592cfeda"
  },
  {
   "metadata": {},
   "cell_type": "markdown",
   "source": "How polynomials are being __added__ by numpy?",
   "id": "8f3ada973b4f2ea3"
  },
  {
   "metadata": {},
   "cell_type": "code",
   "source": [
    "from numpy.polynomial import Polynomial\n",
    "import matplotlib.pyplot as plt\n",
    "\n",
    "A = Polynomial(coef=[0, 0, 1], domain=[-2, 2], window=[-2, 2])  # 0 + 0*x + 1*x^2\n",
    "B = Polynomial(coef=[1, 0, 0], domain=[-2, 2], window=[-2, 2])  # 1 + 0*x + 0*x^2\n",
    "C = A + B  # (1 + 0*x + 1*x^2)\n",
    "\n",
    "plt.plot(*A.linspace(), label=f\"A ({A})\", linestyle=\"-\", color=\"green\")\n",
    "plt.plot(*B.linspace(), label=f\"B ({B})\", linestyle=\"--\", color=\"red\")\n",
    "plt.plot(*C.linspace(), label=f\"C ({C})\", linestyle=\"-.\", color=\"orange\")\n",
    "\n",
    "plt.legend()\n",
    "plt.axvline(0)\n",
    "plt.axhline(0)\n",
    "plt.show()"
   ],
   "id": "initial_id",
   "outputs": [],
   "execution_count": null
  },
  {
   "metadata": {},
   "cell_type": "markdown",
   "source": "Let's see how dataframes could be __updated__ by Pandas?",
   "id": "913f9a52c8c5bdd0"
  },
  {
   "metadata": {},
   "cell_type": "code",
   "source": [
    "import pandas as pd\n",
    "\n",
    "prices = [10, 20, 30]\n",
    "df = pd.DataFrame({\"prices\": prices})\n",
    "\n",
    "print(f'Initial {df}')\n",
    "\n",
    "df *= 1.05\n",
    "print(f'Updated {df}')"
   ],
   "id": "47046a7ab3fb52e7",
   "outputs": [],
   "execution_count": null
  },
  {
   "metadata": {},
   "cell_type": "markdown",
   "source": [
    "Conclusions: \n",
    "* both __numpy__ and __Pandas__ deliver implementations of methods whose name start and end with a double underscore\n",
    "* implementations could be easily found with breakpoints."
   ],
   "id": "4823f4892fee4037"
  },
  {
   "metadata": {},
   "cell_type": "markdown",
   "source": [
    "# First implementation: Operator overloading and string representation\n",
    "Let's assume:\n",
    "$$v1 = (10, 20)$$\n",
    "$$v2 = (50, 60)$$\n",
    "\n",
    "Our objectives:\n",
    "* provide method responsible for creating a resultant vector $$ v3 = v1 + v2 $$\n",
    "* provide method responsible for vector's string representation <code>str(v3)</code>\n",
    "* provide method responsible for calculating a product of a vector and a number $$ v4 = v3 * n $$\n",
    "\n"
   ],
   "id": "f579c1b804768769"
  },
  {
   "metadata": {},
   "cell_type": "code",
   "source": [
    "class Vector:\n",
    "    def __init__(self, x, y):\n",
    "        self.x = x\n",
    "        self.y = y\n",
    "\n",
    "v1 = Vector(10, 20)\n",
    "v2 = Vector(50, 60)\n",
    "\n",
    "v3 = v1 + v2"
   ],
   "id": "1ee1fd3524e525e6",
   "outputs": [],
   "execution_count": null
  },
  {
   "metadata": {},
   "cell_type": "markdown",
   "source": [
    "The addition failed as Python doesn't know how to add two <code>Vector</code> objects.\n",
    "\n",
    "We'll add our first magic method <code>\\_\\_add__()</code> that is called then Python spots the <code>+</code> operator."
   ],
   "id": "af87e0c05535821f"
  },
  {
   "metadata": {},
   "cell_type": "code",
   "source": [
    "   def __add__(self, other):\n",
    "        return Vector(self.x + other.x, self.y + other.y)"
   ],
   "id": "ac11e7e084964371",
   "outputs": [],
   "execution_count": null
  },
  {
   "metadata": {},
   "cell_type": "markdown",
   "source": "Now the updated code does not trigger any exceptions.",
   "id": "5f7a2a196d8edecb"
  },
  {
   "metadata": {},
   "cell_type": "code",
   "source": [
    "class Vector:\n",
    "    def __init__(self, x, y):\n",
    "        self.x = x\n",
    "        self.y = y\n",
    "\n",
    "    def __add__(self, other):\n",
    "        return Vector(self.x + other.x, self.y + other.y)\n",
    "\n",
    "v1 = Vector(10, 20)\n",
    "v2 = Vector(50, 60)\n",
    "\n",
    "v3 = v1 + v2\n",
    "print(v3)"
   ],
   "id": "3b85ad67493895ca",
   "outputs": [],
   "execution_count": null
  },
  {
   "metadata": {},
   "cell_type": "markdown",
   "source": "But we still can't see the result.",
   "id": "e76bdab5b9ef1fb3"
  },
  {
   "metadata": {},
   "cell_type": "markdown",
   "source": "## The string representations",
   "id": "35d746d420dfed1c"
  },
  {
   "metadata": {},
   "cell_type": "markdown",
   "source": "We'll add a magic method <code>\\_\\_str__()</code> to get a string representation of an object. Most common use case: when you print the object.",
   "id": "a201a8c2ad64ba33"
  },
  {
   "metadata": {},
   "cell_type": "code",
   "source": [
    "    def __str__(self):\n",
    "        return f'Vector({self.x}, {self.y})'"
   ],
   "id": "4c912e8f179eca92",
   "outputs": [],
   "execution_count": null
  },
  {
   "metadata": {},
   "cell_type": "code",
   "source": [
    "class Vector:\n",
    "    def __init__(self, x, y):\n",
    "        self.x = x\n",
    "        self.y = y\n",
    "\n",
    "    def __add__(self, other):\n",
    "        return Vector(self.x + other.x, self.y + other.y)\n",
    "\n",
    "    def __str__(self):\n",
    "        return f'Vector({self.x}, {self.y})'\n",
    "\n",
    "v1 = Vector(10, 20)\n",
    "v2 = Vector(50, 60)\n",
    "\n",
    "v3 = v1 + v2\n",
    "print(v3)"
   ],
   "id": "2af2f7f2580e4bd9",
   "outputs": [],
   "execution_count": null
  },
  {
   "metadata": {},
   "cell_type": "markdown",
   "source": [
    "The <code>\\_\\_repr__</code> method provides the official string representation of an object, aimed at the developer.\n",
    "\n",
    "The <code>\\_\\_str__</code> method provides the informal string representation of an object, aimed at the user.\n",
    "\n",
    "\n"
   ],
   "id": "7d024ca6610db6c7"
  },
  {
   "metadata": {},
   "cell_type": "code",
   "source": [
    "    def __repr__(self):\n",
    "        return f'Vector [x: {self.x}, y:{self.y}]'"
   ],
   "id": "42eb17d34c5bc18e",
   "outputs": [],
   "execution_count": null
  },
  {
   "metadata": {},
   "cell_type": "markdown",
   "source": "## Operator overloading",
   "id": "198478a52177c852"
  },
  {
   "metadata": {},
   "cell_type": "markdown",
   "source": "The <code>\\_\\_mul__()</code> method defines a behavior for what's returned when you invoke multiplication on an object. ",
   "id": "ba754dc2186b959e"
  },
  {
   "metadata": {},
   "cell_type": "markdown",
   "source": "## Exercise #1: calculate a product of a vector and a number",
   "id": "4919e19737fc8be5"
  },
  {
   "metadata": {},
   "cell_type": "markdown",
   "source": [
    "Your task is to implement the <code>\\_\\_mul()__</code> method that creates a new vector, that is the product of a vector and a number. \n",
    "\n",
    "Hints: \n",
    "* you could use the following formula:\n",
    "$$v = (a, b)$$\n",
    "$$v * n = (a * n, b * n)$$\n",
    "* the prepared assertion will validate the result  \n"
   ],
   "id": "97aec4f439017cd5"
  },
  {
   "metadata": {},
   "cell_type": "code",
   "source": [
    "class Vector:\n",
    "    def __init__(self, x, y):\n",
    "        self.x = x\n",
    "        self.y = y\n",
    "\n",
    "    def __add__(self, other):\n",
    "        return Vector(self.x + other.x, self.y + other.y)\n",
    "\n",
    "    def __str__(self):\n",
    "        return f'Vector({self.x}, {self.y})'\n",
    "\n",
    "    def __mul__(self, number):\n",
    "        return ...  # <---- put your code here\n",
    "        \n",
    "v1 = Vector(10, 20)\n",
    "v2 = Vector(50, 60)\n",
    "\n",
    "v3 = v1 + v2\n",
    "v4 = v3 * 3\n",
    "assert str(v4) == str(Vector(180, 240))"
   ],
   "id": "757d2f1ab56f3aed",
   "outputs": [],
   "execution_count": null
  },
  {
   "metadata": {},
   "cell_type": "markdown",
   "source": "## Exercise #2: validate data types",
   "id": "6771ed98588a4459"
  },
  {
   "metadata": {},
   "cell_type": "markdown",
   "source": "Magic methods should validate input parameters. In case the input data type is incorrect, magic method should return singleton <code>__NotImplemented__</code> value or raise appropriate exception. ",
   "id": "bc388ab99e2ba9d1"
  },
  {
   "metadata": {},
   "cell_type": "markdown",
   "source": "Your task is to extend the <code>\\_\\_mul()__</code> method to validate the <code>number</code> parameter type. Only integers and floats could be used to multiply the vector; the use of any other data types should be rejected by returning the <code>NotImplemented</code> value.",
   "id": "13d962d565954a81"
  },
  {
   "metadata": {},
   "cell_type": "markdown",
   "source": [
    "## Right-hand operators\n",
    "\n",
    "When you try to execute the following code:"
   ],
   "id": "92d07b2eeafaa37b"
  },
  {
   "metadata": {},
   "cell_type": "code",
   "source": [
    "v41 = 3 * v3\n",
    "assert str(v41) == str(Vector(180, 240))\n"
   ],
   "id": "dae2d4e4bba7732",
   "outputs": [],
   "execution_count": null
  },
  {
   "metadata": {},
   "cell_type": "markdown",
   "source": [
    "You'll receive the <code>TypeError</code>, because magic methods that support operators are affected by the relative position of each object in the containing expression.\n",
    "\n",
    "__Solution__:\n",
    "Provide the right-hand version of operator methods <code>\\_\\_r*\\_\\_()</code>, eg.<code>\\_\\_rmul\\_\\_()</code>. \n"
   ],
   "id": "f0fc421dea561fcd"
  },
  {
   "metadata": {},
   "cell_type": "markdown",
   "source": "## Exercise #3: unary operators",
   "id": "ea1f2a1c0d735cd1"
  },
  {
   "metadata": {},
   "cell_type": "markdown",
   "source": [
    "Python supports unary arithmetic operations (-, +, abs() and ~). The unary operator (-) is supported by the <code>\\_\\_neg__</code> method. \n",
    "\n",
    "Your task is to extend the <code>Vector</code> class by creating an implementation of the method that returns the opposite vector.\n"
   ],
   "id": "e27fe5575c1b24c0"
  },
  {
   "metadata": {},
   "cell_type": "code",
   "source": [
    "class Vector:\n",
    "    def __init__(self, x, y):\n",
    "        self.x = x\n",
    "        self.y = y\n",
    "\n",
    "    def __add__(self, other):\n",
    "        return Vector(self.x + other.x, self.y + other.y)\n",
    "\n",
    "    def __str__(self):\n",
    "        return f'Vector({self.x}, {self.y})'\n",
    "\n",
    "    def __mul__(self, number):\n",
    "        if isinstance(number, float | int):\n",
    "            return Vector(self.x * number, self.y * number)\n",
    "        else:\n",
    "            return NotImplemented\n",
    "\n",
    "    def __rmul__(self, number):\n",
    "         return self.__mul__(number)        \n",
    "\n",
    "    def __neg__(self):\n",
    "        return ...  # <---- put your code here\n",
    "\n",
    "\n",
    "v1 = Vector(10, 20)\n",
    "v2 = Vector(50, 60)\n",
    "\n",
    "v3 = v1 + v2\n",
    "\n",
    "v4 = v3 * 3\n",
    "assert str(v4) == str(Vector(180, 240))\n",
    "\n",
    "v41 = 3 * v3\n",
    "assert str(v41) == str(Vector(180, 240))\n",
    "\n",
    "v5 = -v4\n",
    "assert str(v5) == str(Vector(-180, -240))\n"
   ],
   "id": "11b504dbaa94442f",
   "outputs": [],
   "execution_count": null
  },
  {
   "metadata": {},
   "cell_type": "markdown",
   "source": "",
   "id": "fdfc13f29b42aaac"
  },
  {
   "metadata": {},
   "cell_type": "markdown",
   "source": "## Exercise #4: compare two vectors",
   "id": "e9b0e35a42f38d43"
  },
  {
   "metadata": {},
   "cell_type": "markdown",
   "source": [
    "Python offers special methods that are called for comparison operators. For example, when you want to test if object are equal (by value, but not identity) with equal sign <code>=</code>, Python calls the <code>\\_\\_eq__()</code> magic method.\n",
    "\n",
    "Your task is to extend the <code>Vector</code> class by creating an implementation of the forementioned <code>\\_\\_eq__()</code> method."
   ],
   "id": "57dbde2a5a7e624a"
  },
  {
   "metadata": {},
   "cell_type": "code",
   "source": [
    "class Vector:\n",
    "    def __init__(self, x, y):\n",
    "        self.x = x\n",
    "        self.y = y\n",
    "\n",
    "    def __add__(self, other):\n",
    "        return Vector(self.x + other.x, self.y + other.y)\n",
    "\n",
    "    def __str__(self):\n",
    "        return f'Vector({self.x}, {self.y})'\n",
    "\n",
    "    def __mul__(self, number):\n",
    "        if isinstance(number, float | int):\n",
    "            return Vector(self.x * number, self.y * number)\n",
    "        else:\n",
    "            return NotImplemented\n",
    "\n",
    "    def __rmul__(self, number):\n",
    "         return self.__mul__(number)        \n",
    "\n",
    "    def __neg__(self):\n",
    "        return Vector(-self.x, -self.y)\n",
    "\n",
    "    def __eq__(self, other):\n",
    "        return ...  # <---- put your code here\n",
    "\n",
    "v1 = Vector(10, 20)\n",
    "v2 = Vector(50, 60)\n",
    "\n",
    "v3 = v1 + v2\n",
    "v4 = v3 * 3\n",
    "assert str(v4) == str(Vector(180, 240))\n",
    "\n",
    "v4 = 3 * v3\n",
    "assert str(v4) == str(Vector(180, 240))\n",
    "\n",
    "v5 = -v4\n",
    "assert str(v5) == str(Vector(-180, -240))\n",
    "\n",
    "assert v5 == Vector(-180, -240)"
   ],
   "id": "a88c6b37e12bc6bd",
   "outputs": [],
   "execution_count": null
  }
 ],
 "metadata": {
  "kernelspec": {
   "display_name": "Python 3",
   "language": "python",
   "name": "python3"
  },
  "language_info": {
   "codemirror_mode": {
    "name": "ipython",
    "version": 2
   },
   "file_extension": ".py",
   "mimetype": "text/x-python",
   "name": "python",
   "nbconvert_exporter": "python",
   "pygments_lexer": "ipython2",
   "version": "2.7.6"
  }
 },
 "nbformat": 4,
 "nbformat_minor": 5
}
